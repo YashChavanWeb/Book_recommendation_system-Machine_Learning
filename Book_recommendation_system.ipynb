{
 "cells": [
  {
   "cell_type": "markdown",
   "id": "49f578cc-654f-4223-9ade-bac6620dd19a",
   "metadata": {},
   "source": [
    "# Collaborative Based - Book Recommendation System (Clustering)"
   ]
  },
  {
   "cell_type": "code",
   "execution_count": 77,
   "id": "945d21fa-84ab-4323-a2b6-accbb6910485",
   "metadata": {},
   "outputs": [],
   "source": [
    "import numpy as np\n",
    "import pandas as pd\n",
    "import matplotlib.pyplot as plt"
   ]
  },
  {
   "cell_type": "code",
   "execution_count": 66,
   "id": "820f73ca-524b-4560-b54e-f7a9b213fbd7",
   "metadata": {},
   "outputs": [
    {
     "name": "stderr",
     "output_type": "stream",
     "text": [
      "C:\\Users\\DELL\\AppData\\Local\\Temp\\ipykernel_8428\\2042320294.py:1: DtypeWarning: Columns (3) have mixed types. Specify dtype option on import or set low_memory=False.\n",
      "  books = pd.read_csv('data/Books.csv')\n"
     ]
    }
   ],
   "source": [
    "books = pd.read_csv('data/Books.csv')\n",
    "\n",
    "books.columns\n",
    "\n",
    "books = books[['ISBN', 'Book-Title', 'Book-Author', 'Year-Of-Publication', 'Publisher',\n",
    "       'Image-URL-L' ]]\n",
    "\n",
    "\n",
    "books.rename(columns={\n",
    "    \"Book-Title\": \"title\",\n",
    "    \"Book-Author\": \"author\",\n",
    "    \"Year-Of-Publication\": \"year\",\n",
    "    \"Publisher\": \"publisher\",\n",
    "    \"Image-URL-L\": \"img_url\",\n",
    "}, inplace=True )"
   ]
  },
  {
   "cell_type": "code",
   "execution_count": 67,
   "id": "6fa85b8b-0a19-4bfa-ad7c-5f28a0efd3c9",
   "metadata": {},
   "outputs": [],
   "source": [
    "users = pd.read_csv('data/Users.csv')\n",
    "\n",
    "ratings = pd.read_csv('data/Ratings.csv')\n",
    "\n",
    "ratings.rename(columns={\n",
    "    \"User-ID\": \"user_id\",\n",
    "    \"Book-Rating\": \"rating\"\n",
    "}, inplace=True )"
   ]
  },
  {
   "cell_type": "markdown",
   "id": "079a10ca-0702-4931-b761-1ab1631269de",
   "metadata": {},
   "source": [
    "### Here we will start the analysing part"
   ]
  },
  {
   "cell_type": "code",
   "execution_count": 70,
   "id": "29accf20-35da-467d-87ec-abca0a75fb7c",
   "metadata": {},
   "outputs": [],
   "source": [
    "x = ratings['user_id'].value_counts() > 200\n",
    "y = x[x].index\n",
    "ratings = ratings[ratings['user_id'].isin(y)]"
   ]
  },
  {
   "cell_type": "code",
   "execution_count": null,
   "id": "debd12f8-b18c-45af-a658-e769f0a67785",
   "metadata": {},
   "outputs": [],
   "source": [
    "ratings_with_books = ratings.merge(books, on='ISBN')"
   ]
  },
  {
   "cell_type": "code",
   "execution_count": 71,
   "id": "67eb0c99-697d-4001-8877-d48d9122b29e",
   "metadata": {},
   "outputs": [],
   "source": [
    "num_rating = ratings_with_books.groupby('title')['rating'].count().reset_index()\n",
    "num_rating.rename(columns={'rating': 'num_of_rating'}, inplace=True)"
   ]
  },
  {
   "cell_type": "markdown",
   "id": "ff1ae05d-a256-4de5-a580-c5fa44ca3986",
   "metadata": {},
   "source": [
    "### Merge the ratings dataset with the books dataset"
   ]
  },
  {
   "cell_type": "code",
   "execution_count": 94,
   "id": "3a497686-e8f9-4bbb-bfa4-b9c9ed952631",
   "metadata": {},
   "outputs": [],
   "source": [
    "final_rating = ratings_with_books.merge(num_rating, on='title')\n",
    "final_rating = final_rating[final_rating['num_of_rating']>=50]\n",
    "final_rating.drop_duplicates(['user_id', 'title'], inplace=True)"
   ]
  },
  {
   "cell_type": "markdown",
   "id": "c43698a7-21e8-4b1f-a7b9-2eec8b16d4ae",
   "metadata": {},
   "source": [
    "### Pivot Table (Matrix) and Clustering"
   ]
  },
  {
   "cell_type": "code",
   "execution_count": 101,
   "id": "40c0b69c-8502-4fab-a2f0-fd3b63abc345",
   "metadata": {},
   "outputs": [],
   "source": [
    "book_pivot = final_rating.pivot_table(columns='user_id', index='title', values='rating')\n",
    "book_pivot.fillna(0, inplace=True)"
   ]
  },
  {
   "cell_type": "code",
   "execution_count": 104,
   "id": "2cdcf9a5-5b45-4b22-8114-fdd29d471968",
   "metadata": {},
   "outputs": [],
   "source": [
    "from scipy.sparse import csr_matrix\n",
    "book_sparse = csr_matrix(book_pivot)"
   ]
  },
  {
   "cell_type": "code",
   "execution_count": 115,
   "id": "147b780e-4ae9-416c-b5b0-66821d3b2432",
   "metadata": {},
   "outputs": [],
   "source": [
    "# use clustering algorithm from sklearn - kmeans \n",
    "\n",
    "from sklearn.neighbors import NearestNeighbors\n",
    "model = NearestNeighbors(algorithm='brute')\n",
    "model.fit(book_sparse)\n",
    "\n",
    "distance,suggestion = model.kneighbors(book_pivot.iloc[237,:].values.reshape(1,-1), n_neighbors=6)"
   ]
  },
  {
   "cell_type": "code",
   "execution_count": 119,
   "id": "e4a8c7fb-467d-4ccb-9c07-1c5d24ba7129",
   "metadata": {},
   "outputs": [
    {
     "name": "stdout",
     "output_type": "stream",
     "text": [
      "Index(['Harry Potter and the Chamber of Secrets (Book 2)',\n",
      "       'Harry Potter and the Goblet of Fire (Book 4)',\n",
      "       'Harry Potter and the Prisoner of Azkaban (Book 3)',\n",
      "       'Harry Potter and the Sorcerer's Stone (Book 1)', 'Exclusive',\n",
      "       'The Cradle Will Fall'],\n",
      "      dtype='object', name='title')\n"
     ]
    }
   ],
   "source": [
    "for i in range(len(suggestion)):\n",
    "    print(book_pivot.index[suggestion[i]])"
   ]
  },
  {
   "cell_type": "code",
   "execution_count": 121,
   "id": "6aa8f569-527f-4696-a264-fd0421fba133",
   "metadata": {},
   "outputs": [],
   "source": [
    "book_name = book_pivot.index"
   ]
  },
  {
   "cell_type": "code",
   "execution_count": 125,
   "id": "eb464d29-7b0a-47d0-b23a-5d8f98c53a7c",
   "metadata": {},
   "outputs": [],
   "source": [
    "import pickle \n",
    "\n",
    "pickle.dump(model, open('artifacts/model.pkl', 'wb'))\n",
    "pickle.dump(book_name, open('artifacts/book_name.pkl', 'wb'))\n",
    "pickle.dump(final_rating, open('artifacts/final_rating.pkl', 'wb'))\n",
    "pickle.dump(book_pivot, open('artifacts/book_pivot.pkl', 'wb'))\n"
   ]
  },
  {
   "cell_type": "markdown",
   "id": "cecb2a16-364a-413a-a5f0-0aa5c85b52d0",
   "metadata": {},
   "source": [
    "## Testing the Recommendation process"
   ]
  },
  {
   "cell_type": "code",
   "execution_count": 130,
   "id": "3c09bd13-70fc-45e5-a180-ec874f95d27a",
   "metadata": {},
   "outputs": [],
   "source": [
    "def recommend_book(book_name):\n",
    "    book_id = np.where(book_pivot.index == book_name)[0][0]\n",
    "    distance,suggestion = model.kneighbors(book_pivot.iloc[book_id,:].values.reshape(1,-1), n_neighbors=6)\n",
    "\n",
    "    for i in range(len(suggestion)):\n",
    "        books = book_pivot.index[suggestion[i]]\n",
    "\n",
    "        for j in books: \n",
    "            print(j)"
   ]
  },
  {
   "cell_type": "code",
   "execution_count": 131,
   "id": "ab430669-29dd-4026-83ac-a4e01d09664c",
   "metadata": {},
   "outputs": [
    {
     "name": "stdout",
     "output_type": "stream",
     "text": [
      "A Bend in the Road\n",
      "Exclusive\n",
      "The Cradle Will Fall\n",
      "No Safe Place\n",
      "Family Album\n",
      "Lake Wobegon days\n"
     ]
    }
   ],
   "source": [
    "book_name = 'A Bend in the Road'\n",
    "recommend_book(book_name)"
   ]
  }
 ],
 "metadata": {
  "kernelspec": {
   "display_name": "Python 3 (ipykernel)",
   "language": "python",
   "name": "python3"
  },
  "language_info": {
   "codemirror_mode": {
    "name": "ipython",
    "version": 3
   },
   "file_extension": ".py",
   "mimetype": "text/x-python",
   "name": "python",
   "nbconvert_exporter": "python",
   "pygments_lexer": "ipython3",
   "version": "3.12.1"
  }
 },
 "nbformat": 4,
 "nbformat_minor": 5
}
